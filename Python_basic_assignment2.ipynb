{
 "cells": [
  {
   "cell_type": "code",
   "execution_count": 16,
   "metadata": {},
   "outputs": [
    {
     "name": "stdout",
     "output_type": "stream",
     "text": [
      "1\n",
      "2\n",
      "3\n",
      "4\n",
      "5\n",
      "6\n",
      "7\n",
      "8\n",
      "9\n",
      "10\n",
      "1\n",
      "2\n",
      "3\n",
      "4\n",
      "5\n",
      "6\n",
      "7\n",
      "8\n",
      "9\n",
      "10\n"
     ]
    }
   ],
   "source": [
    "#13. Using a for loop, write a short programme that prints the numbers 1 to 10 Then, \n",
    "#using a while loop, create an identical programme that prints the numbers 1 to 10.\n",
    "\n",
    "\n",
    "#using forloop\n",
    "\n",
    "for num in range(1,11):\n",
    "    print(num)\n",
    "    \n",
    "#using while loop:\n",
    "\n",
    "num = 1\n",
    "\n",
    "while num<=10:\n",
    "    \n",
    "    print(num)\n",
    "    num = num+1\n",
    "    \n",
    "    \n",
    "\n",
    "    "
   ]
  },
  {
   "cell_type": "code",
   "execution_count": 18,
   "metadata": {},
   "outputs": [
    {
     "name": "stdout",
     "output_type": "stream",
     "text": [
      "Salutations!\n"
     ]
    }
   ],
   "source": [
    "#9. Create a programme that prints. If 1 is stored in spam, prints Hello; \n",
    "#if 2 is stored in spam, prints Howdy; and if 3 is stored in spam, prints Salutations! \n",
    "#if there's something else in spam.\n",
    "\n",
    "spam = 3\n",
    "\n",
    "if spam == 1:\n",
    "    print('Hello')\n",
    "    \n",
    "elif spam == 2:\n",
    "    print('Howdy')\n",
    "    \n",
    "elif spam == 3:\n",
    "    print('Salutations!')\n",
    "    \n",
    "else:\n",
    "    print(\"There's something else in spam\")\n",
    "    "
   ]
  },
  {
   "cell_type": "markdown",
   "metadata": {},
   "source": [
    "# 1. What are the Boolean data type's two values? How do you go about writing them?\n",
    "\n",
    "\n",
    "Two Boolean data types are True and False\n",
    "\n",
    "True = 1\n",
    "False = 0\n",
    "\n"
   ]
  },
  {
   "cell_type": "markdown",
   "metadata": {},
   "source": [
    "# 12 In a for loop, what is the difference between range(10), range(0, 10), and range(0, 10, 1)?\n",
    "\n",
    "\n",
    "There is no difference between range(10),range(0,10) and range(0,10,1).\n",
    "\n",
    "All output values from 0 to 9 in for loop.\n"
   ]
  },
  {
   "cell_type": "markdown",
   "metadata": {},
   "source": [
    "# 11. How can you tell the difference between break and continue?\n",
    "\n",
    "break statement is used to terminate the loop containing it.But continue statement will skip the rest of the code inside the loop and executes next iteration in same loop"
   ]
  },
  {
   "cell_type": "markdown",
   "metadata": {},
   "source": [
    "# 10. If your programme is stuck in an endless loop, what keys can you press?\n",
    "\n",
    "In Mac, Press I + I to interrupt the juypter notebook kernel\n",
    "\n"
   ]
  },
  {
   "cell_type": "markdown",
   "metadata": {},
   "source": [
    "# 2. What are the three different types of Boolean operators?\n",
    "\n",
    "AND,OR,NOT"
   ]
  },
  {
   "cell_type": "markdown",
   "metadata": {},
   "source": [
    "# 3. Make a list of each Boolean operator's truth tables (i.e. every possible combination of Boolean values for the operator and what it evaluate ).\n",
    "\n",
    "AND: \n",
    "\n",
    "1 0 = 0\n",
    "0 1 = 0\n",
    "1 1 = 1\n",
    "0 0 = 0\n",
    "\n",
    "OR:\n",
    "\n",
    "1 0 = 1\n",
    "0 1 = 1\n",
    "1 1 = 1\n",
    "0 0 = 0\n",
    "\n",
    "NOT:\n",
    "\n",
    "0 = 1\n",
    "1 = 0"
   ]
  },
  {
   "cell_type": "markdown",
   "metadata": {},
   "source": [
    "# 4. What are the values of the following expressions?\n",
    "\n",
    "(5 > 4) and (3 == 5) -> False\n",
    "not (5 > 4) -> False\n",
    "(5 > 4) or (3 == 5) -> True\n",
    "not ((5 > 4) or (3 == 5)) -> False\n",
    "(True and True) and (True == False) -> False\n",
    "(not False) or (not True) -> True\n"
   ]
  },
  {
   "cell_type": "markdown",
   "metadata": {},
   "source": [
    "# 5. What are the six different types of reference operators?\n",
    "\n",
    "Arithmetic operators\n",
    "Assignment operators\n",
    "Comparison operators\n",
    "Logical operators\n",
    "Identity operators\n",
    "Membership operators"
   ]
  },
  {
   "cell_type": "markdown",
   "metadata": {},
   "source": [
    "# 6. How do you tell the difference between the equal to and assignment operators?\n",
    "\n",
    "(=) ->  operator is an assignment operator used assign values.\n",
    "(==) -> operator is an comparison operator used to compare two values adn returns 1 if both values are same and 0 if both values are different"
   ]
  },
  {
   "cell_type": "markdown",
   "metadata": {},
   "source": [
    "# 7. Describe a condition and when you would use one.\n",
    "\n",
    "(=) operator can be used in conditions like: If I am getting an numerical input from the user i need to store that value in a variable to process it .In that case, I would use (=) operator .\n",
    "\n",
    "(eg) a = 10 / a = 'arun' \n",
    "\n",
    "(==) operator can be used in conditions like: Decison making statement loops (if,elif,else)\n",
    "\n",
    "(eg) salary = 10000\n",
    "     exp = 1 year\n",
    "     if salary == 10000 and exp =='1year':\n",
    "        print('He should gain more expirence')  \n",
    "     else:\n",
    "        print('He can change company\")\n",
    "        "
   ]
  },
  {
   "cell_type": "markdown",
   "metadata": {},
   "source": [
    "# 8. Recognize the following three blocks in this code:\n",
    "\n",
    "Question:\n",
    "\n",
    "spam = 0\n",
    "if spam == 10:\n",
    "    print('eggs')\n",
    "    if spam > 5:\n",
    "        print('bacon')\n",
    "    else:\n",
    "        print('ham')\n",
    "    print('spam')\n",
    "print('spam')\n",
    "\n",
    "\n",
    "Answer:\n",
    "\n",
    "print('eggs')\n",
    "    if spam > 5:\n",
    "        print('bacon')\n",
    "    else:\n",
    "        print('ham')\n",
    "    print('spam')"
   ]
  },
  {
   "cell_type": "markdown",
   "metadata": {},
   "source": [
    "# 14. if you had a bacon() function within a spam module, what would you call it after importing spam\n",
    "\n",
    "import spam\n",
    "\n",
    "spam.bacon()"
   ]
  },
  {
   "cell_type": "code",
   "execution_count": null,
   "metadata": {},
   "outputs": [],
   "source": []
  }
 ],
 "metadata": {
  "kernelspec": {
   "display_name": "Python 3",
   "language": "python",
   "name": "python3"
  },
  "language_info": {
   "codemirror_mode": {
    "name": "ipython",
    "version": 3
   },
   "file_extension": ".py",
   "mimetype": "text/x-python",
   "name": "python",
   "nbconvert_exporter": "python",
   "pygments_lexer": "ipython3",
   "version": "3.8.5"
  }
 },
 "nbformat": 4,
 "nbformat_minor": 4
}
